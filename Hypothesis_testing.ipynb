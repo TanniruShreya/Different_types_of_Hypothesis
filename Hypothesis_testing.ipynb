{
  "nbformat": 4,
  "nbformat_minor": 0,
  "metadata": {
    "colab": {
      "provenance": []
    },
    "kernelspec": {
      "name": "python3",
      "display_name": "Python 3"
    },
    "language_info": {
      "name": "python"
    }
  },
  "cells": [
    {
      "cell_type": "code",
      "execution_count": 6,
      "metadata": {
        "colab": {
          "base_uri": "https://localhost:8080/"
        },
        "id": "USE42fy7joH0",
        "outputId": "77c60abd-2700-40f3-8064-3e2310a117f7"
      },
      "outputs": [
        {
          "output_type": "stream",
          "name": "stdout",
          "text": [
            "<function ttest_ind at 0x7fd4f5f6ee60>\n",
            "0.5586152642823798\n",
            "Fail to test the null hypothesis\n"
          ]
        }
      ],
      "source": [
        "import numpy as np\n",
        "from scipy.stats import ttest_ind\n",
        "A1 = np.array([1.11,23.5,43.2,56.2,23.6])\n",
        "A2 = np.array([78.1,12.3,34.5,43.6,23.8])\n",
        "\n",
        "t_stat,p_value = ttest_ind(A1,A2)\n",
        "print(ttest_ind)\n",
        "print(p_value)\n",
        "\n",
        "if p_value < 0.05:\n",
        "  print(\"Its a null Hypothesis\")\n",
        "else:\n",
        "  print(\"Fail to test the null hypothesis\")"
      ]
    },
    {
      "cell_type": "code",
      "source": [
        "import numpy as np\n",
        "from scipy.stats import ttest_ind\n",
        "A1 = np.array([11,12,13,14,15])\n",
        "A2 = np.array([16,17,18,19,20])\n",
        "\n",
        "t_stat,p_value = ttest_ind(A1,A2)\n",
        "print(ttest_ind)\n",
        "print(p_value)\n",
        "\n",
        "if p_value < 0.05:\n",
        "  print(\"Its a null Hypothesis\")\n",
        "else:\n",
        "  print(\"Fail to test the null hypothesis\")"
      ],
      "metadata": {
        "colab": {
          "base_uri": "https://localhost:8080/"
        },
        "id": "zEQyKV6Rksj-",
        "outputId": "87d72d5d-c4c2-40f9-c8c4-4340bc88ea87"
      },
      "execution_count": 7,
      "outputs": [
        {
          "output_type": "stream",
          "name": "stdout",
          "text": [
            "<function ttest_ind at 0x7fd4f5f6ee60>\n",
            "0.001052825793366539\n",
            "Its a null Hypothesis\n"
          ]
        }
      ]
    },
    {
      "cell_type": "code",
      "source": [
        "#Chi_Sq_test\n",
        "from scipy.stats import f_oneway\n",
        "a=np.array([12,13,15])\n",
        "b=np.array([15,21,25])\n",
        "c=np.array([54,89,86])\n",
        "\n",
        "f_stat,p_value = f_oneway(a,b,c)\n",
        "print(p_value)\n",
        "if p_value < 0.05:\n",
        "  print(\"Its a null Hypothesis\")\n",
        "else:\n",
        "   print(\"Fail to test the null hypothesis\")"
      ],
      "metadata": {
        "colab": {
          "base_uri": "https://localhost:8080/"
        },
        "id": "U1jZl1KcmMQ8",
        "outputId": "2aeeb23c-3627-4686-b637-4e82c94a935c"
      },
      "execution_count": 9,
      "outputs": [
        {
          "output_type": "stream",
          "name": "stdout",
          "text": [
            "0.0010451233783607978\n",
            "Its a null Hypothesis\n"
          ]
        }
      ]
    },
    {
      "cell_type": "code",
      "source": [
        "#Chi_Sq_test\n",
        "from scipy.stats import f_oneway\n",
        "a=np.array([12.5,13.6,15])\n",
        "b=np.array([15.7,21,25.1])\n",
        "c=np.array([54.5,89,86.7])\n",
        "\n",
        "f_stat,p_value = f_oneway(a,b,c)\n",
        "print(p_value)\n",
        "if p_value < 0.05:\n",
        "  print(\"Its a null Hypothesis\")\n",
        "else:\n",
        "   print(\"Fail to test the null hypothesis\")"
      ],
      "metadata": {
        "colab": {
          "base_uri": "https://localhost:8080/"
        },
        "id": "X6tC1OyEpId_",
        "outputId": "38e3c79e-7243-483b-c6a3-3bf2b22147d8"
      },
      "execution_count": 10,
      "outputs": [
        {
          "output_type": "stream",
          "name": "stdout",
          "text": [
            "0.000982553939395163\n",
            "Its a null Hypothesis\n"
          ]
        }
      ]
    },
    {
      "cell_type": "code",
      "source": [
        "#Chi2_comtingency\n",
        "from scipy.stats import chi2_contingency\n",
        "import numpy as np\n",
        "a=np.array([[14,15],[21,65]])\n",
        "chi2_stat,p_value,dof,expected=chi2_contingency(a)\n",
        "print(p_value)\n",
        "if p_value < 0.05:\n",
        "  print(\"reject the null hypothesis: There is a significant association between variables\")\n",
        "else:\n",
        "   print(\"Fail to reject the null hypothesis\")"
      ],
      "metadata": {
        "colab": {
          "base_uri": "https://localhost:8080/"
        },
        "id": "APTzkAQiqFKF",
        "outputId": "f0546dc7-5209-41f7-cd42-6e16f441ad8b"
      },
      "execution_count": 23,
      "outputs": [
        {
          "output_type": "stream",
          "name": "stdout",
          "text": [
            "0.0291668967180607\n",
            "reject the null hypothesis: There is a significant association between variables\n"
          ]
        }
      ]
    },
    {
      "cell_type": "code",
      "source": [
        "import numpy as np\n",
        "from scipy.stats import chi2_contingency\n",
        "\n",
        "a = np.array([[10, 21], [21, 12]])\n",
        "\n",
        "chi2_stat, p_value, _, _ = chi2_contingency(a)\n",
        "\n",
        "if p_value < 0.05:\n",
        "    print(\"Reject the null hypothesis: There is a significant association between variables\")\n",
        "else:\n",
        "    print(\"Fail to reject the null hypothesis\")"
      ],
      "metadata": {
        "colab": {
          "base_uri": "https://localhost:8080/"
        },
        "id": "sVUjEeXurxk4",
        "outputId": "2fdbb9ff-5f25-432b-ba58-aad0e7edde35"
      },
      "execution_count": 24,
      "outputs": [
        {
          "output_type": "stream",
          "name": "stdout",
          "text": [
            "Reject the null hypothesis: There is a significant association between variables\n"
          ]
        }
      ]
    },
    {
      "cell_type": "code",
      "source": [],
      "metadata": {
        "id": "oHEIyvCGwUbn"
      },
      "execution_count": null,
      "outputs": []
    }
  ]
}